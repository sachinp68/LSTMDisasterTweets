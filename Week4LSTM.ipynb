{
  "nbformat": 4,
  "nbformat_minor": 0,
  "metadata": {
    "colab": {
      "provenance": []
    },
    "kernelspec": {
      "name": "python3",
      "display_name": "Python 3"
    },
    "language_info": {
      "name": "python"
    }
  },
  "cells": [
    {
      "cell_type": "code",
      "execution_count": null,
      "metadata": {
        "colab": {
          "base_uri": "https://localhost:8080/"
        },
        "id": "syx8paqLHtQJ",
        "outputId": "7b6b791e-788a-4119-fc44-d7e5609a53e9"
      },
      "outputs": [
        {
          "output_type": "stream",
          "name": "stdout",
          "text": [
            "Archive:  nlp-getting-started.zip\n",
            "  inflating: sample_submission.csv   \n",
            "  inflating: test.csv                \n",
            "  inflating: train.csv               \n"
          ]
        }
      ],
      "source": [
        "!unzip nlp-getting-started.zip"
      ]
    },
    {
      "cell_type": "markdown",
      "source": [
        "In this project, we will employ a Long Short-Term Memory (LSTM) approach to analyze tweets and determine if they correspond to real-life emergencies. By leveraging labeled data, our machine learning algorithm will classify the tweets and identify patterns or expressions indicative of actual disasters. We will begin by importing the necessary libraries, with TensorFlow Keras serving as the foundation for the natural language processing (NLP) component of our model."
      ],
      "metadata": {
        "id": "YlBAcO9gJxr7"
      }
    },
    {
      "cell_type": "code",
      "source": [
        "#general libraries\n",
        "import numpy as np\n",
        "import pandas as pd\n",
        "import os\n",
        "import re\n",
        "import string\n",
        "\n",
        "#visualization\n",
        "import matplotlib.pyplot as plt\n",
        "%matplotlib inline\n",
        "import seaborn as sns\n",
        "\n",
        "#model development\n",
        "from keras import preprocessing\n",
        "from keras.preprocessing.sequence import pad_sequences\n",
        "from keras.utils import to_categorical\n",
        "from keras.layers import Embedding, LSTM, Dense, Dropout, BatchNormalization\n",
        "from keras.models import Sequential\n",
        "import tensorflow as tf\n",
        "from sklearn.feature_extraction.text import ENGLISH_STOP_WORDS"
      ],
      "metadata": {
        "id": "8ESgLr9MIH2C"
      },
      "execution_count": null,
      "outputs": []
    },
    {
      "cell_type": "code",
      "source": [
        "nlp_train = pd.read_csv('/content/train.csv')\n",
        "nlp_test = pd.read_csv('/content/test.csv')"
      ],
      "metadata": {
        "id": "pnIRYIdMNWcL"
      },
      "execution_count": null,
      "outputs": []
    },
    {
      "cell_type": "markdown",
      "source": [
        "# **Exploratory Data Analysis**"
      ],
      "metadata": {
        "id": "nwDpQFcjQnHW"
      }
    },
    {
      "cell_type": "markdown",
      "source": [
        "To begin our EDA, we will print the training dataset's information, including data types and non-null counts, followed by similar details for the testing dataset. This will help us confirm that the datasets are correctly loaded and identify any potential issues with missing values or data types. Next, we will preview the first few rows of both datasets to examine their format and ensure that the data is organized as expected, providing a clear view of how the features and labels are presented in each dataset.\n",
        "\n",
        "\n",
        "\n",
        "\n",
        "\n",
        "\n"
      ],
      "metadata": {
        "id": "W1B2ptYARBkS"
      }
    },
    {
      "cell_type": "code",
      "source": [
        "print(\"\\n----- Training information-----\")\n",
        "print(nlp_train.info())\n",
        "print(\"\\n----- Testing information-----\")\n",
        "print(nlp_test.info())\n",
        "print(\"\\n----- Training format-----\")\n",
        "print(nlp_train.head())\n",
        "print(\"\\n----- Testing format-----\")\n",
        "print(nlp_test.head())"
      ],
      "metadata": {
        "colab": {
          "base_uri": "https://localhost:8080/"
        },
        "id": "Gye-kakONpLI",
        "outputId": "994c9a9d-6de5-44d1-cacc-12832614bd5f"
      },
      "execution_count": null,
      "outputs": [
        {
          "output_type": "stream",
          "name": "stdout",
          "text": [
            "\n",
            "----- Training information-----\n",
            "<class 'pandas.core.frame.DataFrame'>\n",
            "RangeIndex: 7613 entries, 0 to 7612\n",
            "Data columns (total 5 columns):\n",
            " #   Column    Non-Null Count  Dtype \n",
            "---  ------    --------------  ----- \n",
            " 0   id        7613 non-null   int64 \n",
            " 1   keyword   7552 non-null   object\n",
            " 2   location  5080 non-null   object\n",
            " 3   text      7613 non-null   object\n",
            " 4   target    7613 non-null   int64 \n",
            "dtypes: int64(2), object(3)\n",
            "memory usage: 297.5+ KB\n",
            "None\n",
            "\n",
            "----- Testing information-----\n",
            "<class 'pandas.core.frame.DataFrame'>\n",
            "RangeIndex: 3263 entries, 0 to 3262\n",
            "Data columns (total 4 columns):\n",
            " #   Column    Non-Null Count  Dtype \n",
            "---  ------    --------------  ----- \n",
            " 0   id        3263 non-null   int64 \n",
            " 1   keyword   3237 non-null   object\n",
            " 2   location  2158 non-null   object\n",
            " 3   text      3263 non-null   object\n",
            "dtypes: int64(1), object(3)\n",
            "memory usage: 102.1+ KB\n",
            "None\n",
            "\n",
            "----- Training format-----\n",
            "   id keyword location                                               text  \\\n",
            "0   1     NaN      NaN  Our Deeds are the Reason of this #earthquake M...   \n",
            "1   4     NaN      NaN             Forest fire near La Ronge Sask. Canada   \n",
            "2   5     NaN      NaN  All residents asked to 'shelter in place' are ...   \n",
            "3   6     NaN      NaN  13,000 people receive #wildfires evacuation or...   \n",
            "4   7     NaN      NaN  Just got sent this photo from Ruby #Alaska as ...   \n",
            "\n",
            "   target  \n",
            "0       1  \n",
            "1       1  \n",
            "2       1  \n",
            "3       1  \n",
            "4       1  \n",
            "\n",
            "----- Testing format-----\n",
            "   id keyword location                                               text\n",
            "0   0     NaN      NaN                 Just happened a terrible car crash\n",
            "1   2     NaN      NaN  Heard about #earthquake is different cities, s...\n",
            "2   3     NaN      NaN  there is a forest fire at spot pond, geese are...\n",
            "3   9     NaN      NaN           Apocalypse lighting. #Spokane #wildfires\n",
            "4  11     NaN      NaN      Typhoon Soudelor kills 28 in China and Taiwan\n"
          ]
        }
      ]
    },
    {
      "cell_type": "code",
      "source": [
        "print(\"\\n----- Training Null counts -----\")\n",
        "print(nlp_train.isnull().sum())\n",
        "print(\"\\n----- Testing Null counts -----\")\n",
        "print(nlp_test.isnull().sum())"
      ],
      "metadata": {
        "colab": {
          "base_uri": "https://localhost:8080/"
        },
        "id": "96ZKXO6kPe0p",
        "outputId": "083ba6c6-18ae-426e-b429-cdb065ecd277"
      },
      "execution_count": null,
      "outputs": [
        {
          "output_type": "stream",
          "name": "stdout",
          "text": [
            "\n",
            "----- Training Null counts -----\n",
            "id             0\n",
            "keyword       61\n",
            "location    2533\n",
            "text           0\n",
            "target         0\n",
            "dtype: int64\n",
            "\n",
            "----- Testing Null counts -----\n",
            "id             0\n",
            "keyword       26\n",
            "location    1105\n",
            "text           0\n",
            "dtype: int64\n"
          ]
        }
      ]
    },
    {
      "cell_type": "markdown",
      "source": [
        "\n",
        "The training dataset comprises 7,613 entries and includes five columns: id, keyword, location, text, and target, where the target column serves as the label for each tweet, distinguishing between disaster-related and non-disaster-related tweets. The test dataset, which contains 3,263 entries, includes similar columns but omits the target column, as it is intended for prediction rather than training. In both datasets, there are notable missing values in the keyword and location columns. Specifically, the training set has 61 missing values in the keyword column and a substantial 2,533 missing values in the location column. Similarly, the test set has 26 missing values in the keyword column and 1,105 missing values in the location column."
      ],
      "metadata": {
        "id": "Y03uqnZcP7RF"
      }
    },
    {
      "cell_type": "code",
      "source": [
        "nlp_train.drop('location', axis=1, inplace=True)\n",
        "nlp_test.drop('location', axis=1, inplace=True)\n",
        "nlp_train.drop('keyword', axis=1, inplace=True)\n",
        "nlp_test.drop('keyword', axis=1, inplace=True)"
      ],
      "metadata": {
        "id": "5LiS1k_bRs77"
      },
      "execution_count": null,
      "outputs": []
    },
    {
      "cell_type": "markdown",
      "source": [
        "These missing values are significant and have been addressed by removing these columns, as they are not critical to the analysis and would otherwise complicate the data preprocessing. This cleanup allows us to focus on the essential data for building and evaluating our machine learning model."
      ],
      "metadata": {
        "id": "16YeBZhJSHER"
      }
    },
    {
      "cell_type": "code",
      "source": [
        "plt.figure(figsize=(6, 4))\n",
        "sns.countplot(x='target', data=nlp_train)\n",
        "plt.title('Distribution of Non Disaster(0) and Disaster Tweets(1) in Training Set')\n",
        "plt.xlabel('Label')\n",
        "plt.ylabel('Count')\n",
        "plt.show()"
      ],
      "metadata": {
        "colab": {
          "base_uri": "https://localhost:8080/",
          "height": 410
        },
        "id": "0czNpL6BR05o",
        "outputId": "5d5f6a5d-166f-47a1-fb86-3adadf9a1379"
      },
      "execution_count": null,
      "outputs": [
        {
          "output_type": "display_data",
          "data": {
            "text/plain": [
              "<Figure size 600x400 with 1 Axes>"
            ],
            "image/png": "[encoded data removed]"
          },
          "metadata": {}
        }
      ]
    },
    {
      "cell_type": "markdown",
      "source": [
        "A histogram of the target labels reveals a slight imbalance: there are just over 4,000 non-disaster tweets and a little more than 3,000 disaster tweets. This imbalance indicates a predominance of non-emergency tweets, which could potentially lead to overfitting the model to negative cases. Therefore, it's crucial to consider strategies during training to mitigate this risk. One option might be to split the data more evenly between the two classes to ensure that the model is equally effective at identifying both disaster-related and non-disaster-related tweets."
      ],
      "metadata": {
        "id": "RjwfuuJ94PPv"
      }
    },
    {
      "cell_type": "markdown",
      "source": [
        "### **PreProcessing**"
      ],
      "metadata": {
        "id": "LnTt7H8q_eG6"
      }
    },
    {
      "cell_type": "markdown",
      "source": [
        "To prepare the data for model training, we will start by addressing class imbalance in the training dataset. We will achieve this by performing undersampling, where we reduce the number of samples from the majority class (non-disaster tweets) to match the number of samples in the minority class (disaster tweets). This ensures a balanced dataset for more effective model training. After balancing the classes, we will convert the text data and labels from the DataFrame to NumPy arrays for compatibility with machine learning libraries.\n",
        "\n",
        "Next, we will preprocess the text data to enhance the quality of input for our model. This involves several steps: removing URLs, hashtags, and punctuation, as well as filtering out common English stop words to focus on meaningful content. The cleaned text will then be further refined using stemming to reduce words to their root forms, which helps in normalizing the text data. We will tokenize the text using TensorFlow's Tokenizer, which will convert the text into sequences of integers representing words, and determine the vocabulary length. Finally, we will identify the longest sentence in the dataset to understand the text length, which will inform how we handle padding and sequence length during model training."
      ],
      "metadata": {
        "id": "O5IfoMFO_j4k"
      }
    },
    {
      "cell_type": "code",
      "source": [
        "class_0 = nlp_train[nlp_train['target'] == 0]\n",
        "class_1 = nlp_train[nlp_train['target'] == 1]\n",
        "class_0_under = class_0.sample(len(class_1), random_state=42)\n",
        "nlp_train = pd.concat([class_0_under, class_1])"
      ],
      "metadata": {
        "id": "T40ltCca75wc"
      },
      "execution_count": null,
      "outputs": []
    },
    {
      "cell_type": "code",
      "source": [
        "text = nlp_train['text']\n",
        "text = text.to_numpy()\n",
        "label = nlp_train['target']\n",
        "label = label.to_numpy()\n",
        "text"
      ],
      "metadata": {
        "colab": {
          "base_uri": "https://localhost:8080/"
        },
        "id": "mWZH1ILdBnsP",
        "outputId": "8020f05e-734e-468c-d30d-ccd05acd3cb5"
      },
      "execution_count": null,
      "outputs": [
        {
          "output_type": "execute_result",
          "data": {
            "text/plain": [
              "array(['Everyday is a near death fatality for me on the road. Thank god is on my side.??',\n",
              "       '#Lifestyle \\x89Û÷It makes me sick\\x89Ûª: Baby clothes deemed a \\x89Û÷hazard\\x89Ûª http://t.co/0XrfVidxA2 http://t.co/oIHwgEZDCk',\n",
              "       '@Lenn_Len Probably. We are inundated with them most years!', ...,\n",
              "       'M1.94 [01:04 UTC]?5km S of Volcano Hawaii. http://t.co/zDtoyd8EbJ',\n",
              "       'Police investigating after an e-bike collided with a car in Little Portugal. E-bike rider suffered serious non-life threatening injuries.',\n",
              "       'The Latest: More Homes Razed by Northern California Wildfire - ABC News http://t.co/YmY4rSkQ3d'],\n",
              "      dtype=object)"
            ]
          },
          "metadata": {},
          "execution_count": 12
        }
      ]
    },
    {
      "cell_type": "code",
      "source": [
        "def clean(text_array):\n",
        "    def process_sentence(sentence):\n",
        "        sentence = re.sub(r'http\\S+|www\\S+|https\\S+', '', sentence, flags=re.MULTILINE)\n",
        "        sentence = re.sub(r'#\\S+', '', sentence)\n",
        "        sentence = sentence.translate(str.maketrans('', '', string.punctuation))\n",
        "        words = sentence.split()\n",
        "        filtered_words = [word for word in words if word.lower() not in ENGLISH_STOP_WORDS]\n",
        "        return ' '.join(filtered_words)\n",
        "    return [process_sentence(sentence) for sentence in text_array]\n",
        "text = clean(text)"
      ],
      "metadata": {
        "id": "adXumHo7Budk"
      },
      "execution_count": null,
      "outputs": []
    },
    {
      "cell_type": "code",
      "source": [
        "from nltk.stem import SnowballStemmer\n",
        "stemmer = SnowballStemmer(\"english\")\n",
        "text = [stemmer.stem(word) for word in text]"
      ],
      "metadata": {
        "id": "J0_-OF3rB1Yq"
      },
      "execution_count": null,
      "outputs": []
    },
    {
      "cell_type": "code",
      "source": [
        "word_tokenizer = tf.keras.preprocessing.text.Tokenizer()\n",
        "word_tokenizer.fit_on_texts(text)\n",
        "vocab_length = len(word_tokenizer.word_index) + 1\n",
        "vocab_length"
      ],
      "metadata": {
        "colab": {
          "base_uri": "https://localhost:8080/"
        },
        "id": "Kve5JWOLB7ta",
        "outputId": "25ee00ab-e0fa-4376-8710-a1800a22416f"
      },
      "execution_count": null,
      "outputs": [
        {
          "output_type": "execute_result",
          "data": {
            "text/plain": [
              "15369"
            ]
          },
          "metadata": {},
          "execution_count": 15
        }
      ]
    },
    {
      "cell_type": "code",
      "source": [
        "import nltk\n",
        "nltk.download('punkt')\n",
        "from nltk.tokenize import word_tokenize\n",
        "longest_train = max(text, key=lambda sentence: len(word_tokenize(sentence)))\n",
        "length_long_sentence = len(word_tokenize(longest_train))"
      ],
      "metadata": {
        "colab": {
          "base_uri": "https://localhost:8080/"
        },
        "id": "3aPSaMTGB-ym",
        "outputId": "6f8e0d5e-257d-4422-81ae-f2f6efdb1566"
      },
      "execution_count": null,
      "outputs": [
        {
          "output_type": "stream",
          "name": "stderr",
          "text": [
            "[nltk_data] Downloading package punkt to /root/nltk_data...\n",
            "[nltk_data]   Unzipping tokenizers/punkt.zip.\n"
          ]
        }
      ]
    },
    {
      "cell_type": "markdown",
      "source": [
        "# **Model**"
      ],
      "metadata": {
        "id": "48iHFb-oDMtD"
      }
    },
    {
      "cell_type": "markdown",
      "source": [
        "For our model, we will construct and train a Long Short-Term Memory (LSTM) network to classify tweets into disaster-related or non-disaster-related categories. We begin by defining parameters for our model, including max_words to set the vocabulary length and max_len to determine the length of the input sequences. We then convert the text data into sequences of integers using a word tokenizer and pad these sequences to ensure uniform input length. The labels are transformed into categorical format to align with the model's output requirements. The model architecture is built using a Sequential approach, starting with an Embedding layer to learn dense representations of words."
      ],
      "metadata": {
        "id": "rFkWvU0wDcKK"
      }
    },
    {
      "cell_type": "markdown",
      "source": [
        "### **Hyoer-Paramater Tuning**\n",
        "\n",
        "\n"
      ],
      "metadata": {
        "id": "yCqf9mpyD4Lw"
      }
    },
    {
      "cell_type": "markdown",
      "source": [
        " We include a Dropout layer to mitigate overfitting, followed by an LSTM layer to capture temporal dependencies in the text. Finally, a Dense layer with a sigmoid activation function is used to output the classification probabilities. The model is compiled with a Binary Crossentropy loss function and the Adamax optimizer, and will be trained for 10 epochs with a batch size of 64, aiming to achieve accurate and reliable classification of tweets."
      ],
      "metadata": {
        "id": "Wh1w7niSEAN1"
      }
    },
    {
      "cell_type": "code",
      "source": [
        "max_words = vocab_length\n",
        "max_len = length_long_sentence\n",
        "sequences = word_tokenizer.texts_to_sequences(text)\n",
        "\n",
        "padded_sequences = pad_sequences(sequences, maxlen=max_len)\n",
        "labels = to_categorical(label)\n",
        "\n",
        "model = Sequential()\n",
        "model.add(Embedding(max_words, 128))\n",
        "model.add(Dropout(0.5))\n",
        "model.add(LSTM(64))\n",
        "model.add(Dense(2, activation='sigmoid'))\n",
        "\n",
        "model.compile(loss='BinaryCrossentropy', optimizer='Adamax', metrics=['accuracy'])\n",
        "\n",
        "model.fit(padded_sequences, labels, epochs=10, batch_size=64)"
      ],
      "metadata": {
        "colab": {
          "base_uri": "https://localhost:8080/"
        },
        "id": "5k5egxsNCA_s",
        "outputId": "0a7231b6-8105-4b72-ad2d-515d527fc1c6"
      },
      "execution_count": null,
      "outputs": [
        {
          "output_type": "stream",
          "name": "stdout",
          "text": [
            "Epoch 1/10\n",
            "\u001b[1m103/103\u001b[0m \u001b[32m━━━━━━━━━━━━━━━━━━━━\u001b[0m\u001b[37m\u001b[0m \u001b[1m14s\u001b[0m 58ms/step - accuracy: 0.5274 - loss: 0.6888\n",
            "Epoch 2/10\n",
            "\u001b[1m103/103\u001b[0m \u001b[32m━━━━━━━━━━━━━━━━━━━━\u001b[0m\u001b[37m\u001b[0m \u001b[1m10s\u001b[0m 54ms/step - accuracy: 0.6557 - loss: 0.6263\n",
            "Epoch 3/10\n",
            "\u001b[1m103/103\u001b[0m \u001b[32m━━━━━━━━━━━━━━━━━━━━\u001b[0m\u001b[37m\u001b[0m \u001b[1m7s\u001b[0m 72ms/step - accuracy: 0.7647 - loss: 0.4904\n",
            "Epoch 4/10\n",
            "\u001b[1m103/103\u001b[0m \u001b[32m━━━━━━━━━━━━━━━━━━━━\u001b[0m\u001b[37m\u001b[0m \u001b[1m8s\u001b[0m 53ms/step - accuracy: 0.8214 - loss: 0.4037\n",
            "Epoch 5/10\n",
            "\u001b[1m103/103\u001b[0m \u001b[32m━━━━━━━━━━━━━━━━━━━━\u001b[0m\u001b[37m\u001b[0m \u001b[1m7s\u001b[0m 67ms/step - accuracy: 0.8458 - loss: 0.3570\n",
            "Epoch 6/10\n",
            "\u001b[1m103/103\u001b[0m \u001b[32m━━━━━━━━━━━━━━━━━━━━\u001b[0m\u001b[37m\u001b[0m \u001b[1m9s\u001b[0m 59ms/step - accuracy: 0.8607 - loss: 0.3286\n",
            "Epoch 7/10\n",
            "\u001b[1m103/103\u001b[0m \u001b[32m━━━━━━━━━━━━━━━━━━━━\u001b[0m\u001b[37m\u001b[0m \u001b[1m10s\u001b[0m 57ms/step - accuracy: 0.8743 - loss: 0.2994\n",
            "Epoch 8/10\n",
            "\u001b[1m103/103\u001b[0m \u001b[32m━━━━━━━━━━━━━━━━━━━━\u001b[0m\u001b[37m\u001b[0m \u001b[1m11s\u001b[0m 62ms/step - accuracy: 0.8918 - loss: 0.2781\n",
            "Epoch 9/10\n",
            "\u001b[1m103/103\u001b[0m \u001b[32m━━━━━━━━━━━━━━━━━━━━\u001b[0m\u001b[37m\u001b[0m \u001b[1m10s\u001b[0m 60ms/step - accuracy: 0.8933 - loss: 0.2687\n",
            "Epoch 10/10\n",
            "\u001b[1m103/103\u001b[0m \u001b[32m━━━━━━━━━━━━━━━━━━━━\u001b[0m\u001b[37m\u001b[0m \u001b[1m5s\u001b[0m 52ms/step - accuracy: 0.9042 - loss: 0.2296\n"
          ]
        },
        {
          "output_type": "execute_result",
          "data": {
            "text/plain": [
              "<keras.src.callbacks.history.History at 0x79632d885660>"
            ]
          },
          "metadata": {},
          "execution_count": 19
        }
      ]
    },
    {
      "cell_type": "markdown",
      "source": [
        "# **Results and Analysis**"
      ],
      "metadata": {
        "id": "-mJxD5FwEzs9"
      }
    },
    {
      "cell_type": "markdown",
      "source": [
        "The training results for the LSTM model over 10 epochs reveal a progressive improvement in both accuracy and loss, indicating effective learning and model performance enhancement. Initially, during the first epoch, the model achieved an accuracy of 52.74% with a loss of 0.6888. This performance improved significantly in subsequent epochs. By the second epoch, accuracy increased to 65.57% while the loss decreased to 0.6263. As training continued, the model's accuracy rose steadily, reaching 90.42% by the tenth epoch, accompanied by a decrease in loss to 0.2296. This consistent upward trend in accuracy and downward trend in loss suggests that the model is learning effectively and becoming better at distinguishing between disaster-related and non-disaster-related tweets. The final accuracy of 90.42% and the low loss value reflect a well-trained model, showing that it has successfully captured the patterns in the data and is likely to perform robustly on unseen data."
      ],
      "metadata": {
        "id": "kewALqDkE5J5"
      }
    },
    {
      "cell_type": "markdown",
      "source": [
        "# Conclusion"
      ],
      "metadata": {
        "id": "v-hGrvyvFV3z"
      }
    },
    {
      "cell_type": "markdown",
      "source": [
        "In the subsequent code, we will process the test dataset to generate predictions using our trained model. First, we extract the text column from df_test, convert it to a NumPy array, and apply a cleaning function to preprocess the text data. Following this, we perform stemming on each word to standardize the text and convert the cleaned, stemmed text into sequences of integers using a tokenizer. These sequences are then padded to ensure consistent input length for the model. We use the model to predict probabilities on these padded sequences.\n",
        "\n",
        "The predictions are then evaluated: if the probability of a positive class (disaster tweet) is 0.5 or higher, the corresponding entry is classified as 1 (positive), otherwise as 0 (negative). Finally, a DataFrame is created with these binary predictions, indexed by the original tweet IDs. This DataFrame is saved to a CSV file named submission.csv, which will serve as the final output for our analysis."
      ],
      "metadata": {
        "id": "m0s0ixRcF8Nm"
      }
    },
    {
      "cell_type": "code",
      "source": [
        "text2 = nlp_test['text']\n",
        "text2 = text2.to_numpy()\n",
        "text2 = clean(text2)\n",
        "text2 = [stemmer.stem(word) for word in text2]\n",
        "sequences2 = word_tokenizer.texts_to_sequences(text2)\n",
        "padded_sequences2 = pad_sequences(sequences2, maxlen=max_len)"
      ],
      "metadata": {
        "id": "15Mac2REEEr5"
      },
      "execution_count": null,
      "outputs": []
    },
    {
      "cell_type": "code",
      "source": [
        "predictions = model.predict(padded_sequences2)"
      ],
      "metadata": {
        "colab": {
          "base_uri": "https://localhost:8080/"
        },
        "id": "IjN9vowoGDO7",
        "outputId": "6b38249a-92aa-45d2-910d-e5b445ccec3d"
      },
      "execution_count": null,
      "outputs": [
        {
          "output_type": "stream",
          "name": "stdout",
          "text": [
            "\u001b[1m102/102\u001b[0m \u001b[32m━━━━━━━━━━━━━━━━━━━━\u001b[0m\u001b[37m\u001b[0m \u001b[1m2s\u001b[0m 13ms/step\n"
          ]
        }
      ]
    },
    {
      "cell_type": "code",
      "source": [
        "prob_class_1 = predictions[:, 1]\n",
        "binary_predictions = [1 if p >= 0.5 else 0 for p in prob_class_1]\n",
        "nlp = pd.DataFrame({'target': binary_predictions}, index=nlp_test['id'])\n",
        "nlp.index.name = 'id'\n",
        "\n",
        "\n",
        "# Now save the DataFrame to CSV\n",
        "nlp.to_csv('nlp.csv')\n"
      ],
      "metadata": {
        "id": "FdJDE5WIGFWJ"
      },
      "execution_count": null,
      "outputs": []
    },
    {
      "cell_type": "code",
      "source": [
        "from google.colab import drive\n",
        "drive.mount('/content/gdrive')"
      ],
      "metadata": {
        "colab": {
          "base_uri": "https://localhost:8080/"
        },
        "id": "s3fWyb3HH353",
        "outputId": "3fc317f7-17c3-4ec9-aa10-cd50dd4bead4"
      },
      "execution_count": null,
      "outputs": [
        {
          "output_type": "stream",
          "name": "stdout",
          "text": [
            "Mounted at /content/gdrive\n"
          ]
        }
      ]
    },
    {
      "cell_type": "code",
      "source": [
        "!cp nlp.csv \"/content/gdrive\""
      ],
      "metadata": {
        "colab": {
          "base_uri": "https://localhost:8080/"
        },
        "id": "vplmV4CBHb_d",
        "outputId": "49835244-5cde-4d1d-9d2d-504b2fbdba4d"
      },
      "execution_count": null,
      "outputs": [
        {
          "output_type": "stream",
          "name": "stdout",
          "text": [
            "cp: cannot create regular file '/content/gdrive/nlp.csv': Operation not supported\n"
          ]
        }
      ]
    },
    {
      "cell_type": "code",
      "source": [],
      "metadata": {
        "id": "8m4LmTPZH3TS"
      },
      "execution_count": null,
      "outputs": []
    },
    {
      "cell_type": "code",
      "source": [
        "!pwd"
      ],
      "metadata": {
        "colab": {
          "base_uri": "https://localhost:8080/"
        },
        "id": "1TPqldf4GIAR",
        "outputId": "b349660b-83ef-417e-b2e4-f8d3404b9fba"
      },
      "execution_count": null,
      "outputs": [
        {
          "output_type": "stream",
          "name": "stdout",
          "text": [
            "/content\n"
          ]
        }
      ]
    },
    {
      "cell_type": "code",
      "source": [
        "!cd /kaggle/working"
      ],
      "metadata": {
        "id": "GbamL6ZaG5Ag"
      },
      "execution_count": null,
      "outputs": []
    }
  ]
}